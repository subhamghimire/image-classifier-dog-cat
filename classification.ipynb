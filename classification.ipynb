{
 "cells": [
  {
   "cell_type": "code",
   "execution_count": 53,
   "metadata": {},
   "outputs": [],
   "source": [
    "from keras.preprocessing.image import ImageDataGenerator\n",
    "from keras.models import Sequential\n",
    "from keras.layers import Conv2D, MaxPooling2D\n",
    "from keras.layers import Activation, Dropout, Flatten, Dense\n",
    "from keras import backend as K\n",
    "import numpy as np\n",
    "from keras.preprocessing import image\n",
    "from keras.utils import load_img, img_to_array \n",
    "from tensorflow import keras\n",
    "import matplotlib.pyplot as plt\n"
   ]
  },
  {
   "cell_type": "code",
   "execution_count": 35,
   "metadata": {},
   "outputs": [],
   "source": [
    "#dimensions of our images\n",
    "img_width, img_height = 150, 150\n",
    "\n",
    "train_data_dir = 'data/train'\n",
    "validation_data_dir = 'data/validation'\n",
    "nb_train_samples = 1000\n",
    "nb_validation_samples = 100\n",
    "epochs = 40\n",
    "batch_size = 20"
   ]
  },
  {
   "cell_type": "code",
   "execution_count": 36,
   "metadata": {},
   "outputs": [],
   "source": [
    "\n",
    "if K.image_data_format() == 'channels_first':\n",
    "\tinput_shape = (3, img_width,img_height)\n",
    "else:\n",
    "\tinput_shape = (img_width,img_height, 3)\n",
    "\n",
    "train_datagen = \tImageDataGenerator(\n",
    "\trescale=1. / 255,\n",
    "\tshear_range=0.2,\n",
    "\tzoom_range=0.2,\n",
    "\thorizontal_flip=True)\n"
   ]
  },
  {
   "cell_type": "code",
   "execution_count": 37,
   "metadata": {},
   "outputs": [
    {
     "name": "stdout",
     "output_type": "stream",
     "text": [
      "Found 24958 images belonging to 2 classes.\n",
      "Found 40 images belonging to 2 classes.\n"
     ]
    }
   ],
   "source": [
    "\n",
    "#This is the augmentation configuration we will use for testing:\n",
    "#only rescaling\n",
    "test_datagen = ImageDataGenerator(rescale=1. /255)\n",
    "\n",
    "train_generator = train_datagen.flow_from_directory(\n",
    "\ttrain_data_dir,\n",
    "\ttarget_size= (img_width, img_height),\n",
    "\tbatch_size=batch_size,\n",
    "\tclass_mode='binary')\n",
    "\n",
    "validation_generator = test_datagen.flow_from_directory(\n",
    "\tvalidation_data_dir,\n",
    "\ttarget_size=(img_width,img_height),\n",
    "\tbatch_size=batch_size,\n",
    "\tclass_mode='binary')\n"
   ]
  },
  {
   "cell_type": "code",
   "execution_count": 38,
   "metadata": {},
   "outputs": [
    {
     "name": "stdout",
     "output_type": "stream",
     "text": [
      "Model: \"sequential_5\"\n",
      "_________________________________________________________________\n",
      " Layer (type)                Output Shape              Param #   \n",
      "=================================================================\n",
      " conv2d_15 (Conv2D)          (None, 148, 148, 32)      896       \n",
      "                                                                 \n",
      " activation_25 (Activation)  (None, 148, 148, 32)      0         \n",
      "                                                                 \n",
      " max_pooling2d_15 (MaxPoolin  (None, 74, 74, 32)       0         \n",
      " g2D)                                                            \n",
      "                                                                 \n",
      "=================================================================\n",
      "Total params: 896\n",
      "Trainable params: 896\n",
      "Non-trainable params: 0\n",
      "_________________________________________________________________\n",
      "Model: \"sequential_5\"\n",
      "_________________________________________________________________\n",
      " Layer (type)                Output Shape              Param #   \n",
      "=================================================================\n",
      " conv2d_15 (Conv2D)          (None, 148, 148, 32)      896       \n",
      "                                                                 \n",
      " activation_25 (Activation)  (None, 148, 148, 32)      0         \n",
      "                                                                 \n",
      " max_pooling2d_15 (MaxPoolin  (None, 74, 74, 32)       0         \n",
      " g2D)                                                            \n",
      "                                                                 \n",
      " conv2d_16 (Conv2D)          (None, 72, 72, 32)        9248      \n",
      "                                                                 \n",
      " activation_26 (Activation)  (None, 72, 72, 32)        0         \n",
      "                                                                 \n",
      " max_pooling2d_16 (MaxPoolin  (None, 36, 36, 32)       0         \n",
      " g2D)                                                            \n",
      "                                                                 \n",
      " conv2d_17 (Conv2D)          (None, 34, 34, 64)        18496     \n",
      "                                                                 \n",
      " activation_27 (Activation)  (None, 34, 34, 64)        0         \n",
      "                                                                 \n",
      " max_pooling2d_17 (MaxPoolin  (None, 17, 17, 64)       0         \n",
      " g2D)                                                            \n",
      "                                                                 \n",
      " flatten_5 (Flatten)         (None, 18496)             0         \n",
      "                                                                 \n",
      " dense_10 (Dense)            (None, 64)                1183808   \n",
      "                                                                 \n",
      " activation_28 (Activation)  (None, 64)                0         \n",
      "                                                                 \n",
      " dropout_5 (Dropout)         (None, 64)                0         \n",
      "                                                                 \n",
      " dense_11 (Dense)            (None, 1)                 65        \n",
      "                                                                 \n",
      " activation_29 (Activation)  (None, 1)                 0         \n",
      "                                                                 \n",
      "=================================================================\n",
      "Total params: 1,212,513\n",
      "Trainable params: 1,212,513\n",
      "Non-trainable params: 0\n",
      "_________________________________________________________________\n"
     ]
    }
   ],
   "source": [
    "\n",
    "model = Sequential()\n",
    "model.add(Conv2D(32, (3, 3), input_shape = input_shape))\n",
    "model.add(Activation('relu'))\n",
    "model.add(MaxPooling2D(pool_size= (2, 2)))\n",
    "\n",
    "model.summary()\n",
    "\n",
    "model.add(Conv2D(32, (3, 3)))\n",
    "model.add(Activation('relu'))\n",
    "model.add(MaxPooling2D(pool_size= (2, 2)))\n",
    "\n",
    "model.add(Conv2D(64, (3, 3)))\n",
    "model.add(Activation('relu'))\n",
    "model.add(MaxPooling2D(pool_size= (2, 2)))\n",
    "\n",
    "model.add(Flatten())\n",
    "model.add(Dense(64))\n",
    "model.add(Activation('relu'))\n",
    "model.add(Dropout(0.5))\n",
    "model.add(Dense(1))\n",
    "model.add(Activation('sigmoid'))\n",
    "\n",
    "model.summary()\n",
    "model.compile(loss='binary_crossentropy',\n",
    "\t          optimizer='rmsprop',\n",
    "\t          metrics=['accuracy'])"
   ]
  },
  {
   "cell_type": "code",
   "execution_count": 60,
   "metadata": {},
   "outputs": [
    {
     "name": "stdout",
     "output_type": "stream",
     "text": [
      "Epoch 1/40\n",
      "50/50 [==============================] - ETA: 0s - loss: 0.5488 - accuracy: 0.7480WARNING:tensorflow:Your input ran out of data; interrupting training. Make sure that your dataset or generator can generate at least `steps_per_epoch * epochs` batches (in this case, 5 batches). You may need to use the repeat() function when building your dataset.\n"
     ]
    },
    {
     "name": "stderr",
     "output_type": "stream",
     "text": [
      "WARNING:tensorflow:Your input ran out of data; interrupting training. Make sure that your dataset or generator can generate at least `steps_per_epoch * epochs` batches (in this case, 5 batches). You may need to use the repeat() function when building your dataset.\n"
     ]
    },
    {
     "name": "stdout",
     "output_type": "stream",
     "text": [
      "50/50 [==============================] - 50s 989ms/step - loss: 0.5488 - accuracy: 0.7480 - val_loss: 0.3865 - val_accuracy: 0.8000\n",
      "Epoch 2/40\n",
      "50/50 [==============================] - 50s 1s/step - loss: 0.5308 - accuracy: 0.7350\n",
      "Epoch 3/40\n",
      "50/50 [==============================] - 46s 884ms/step - loss: 0.5149 - accuracy: 0.7420\n",
      "Epoch 4/40\n",
      "50/50 [==============================] - 38s 753ms/step - loss: 0.5149 - accuracy: 0.7440\n",
      "Epoch 5/40\n",
      "50/50 [==============================] - 35s 694ms/step - loss: 0.4991 - accuracy: 0.7600\n",
      "Epoch 6/40\n",
      "50/50 [==============================] - 31s 622ms/step - loss: 0.5087 - accuracy: 0.7595\n",
      "Epoch 7/40\n",
      "50/50 [==============================] - 32s 645ms/step - loss: 0.5028 - accuracy: 0.7730\n",
      "Epoch 8/40\n",
      "50/50 [==============================] - 31s 625ms/step - loss: 0.5237 - accuracy: 0.7770\n",
      "Epoch 9/40\n",
      "50/50 [==============================] - 28s 545ms/step - loss: 0.5190 - accuracy: 0.7460\n",
      "Epoch 10/40\n",
      "50/50 [==============================] - 24s 477ms/step - loss: 0.5152 - accuracy: 0.7630\n",
      "Epoch 11/40\n",
      "50/50 [==============================] - 28s 561ms/step - loss: 0.5281 - accuracy: 0.7520\n",
      "Epoch 12/40\n",
      "50/50 [==============================] - 28s 566ms/step - loss: 0.5130 - accuracy: 0.7590\n",
      "Epoch 13/40\n",
      "50/50 [==============================] - 22s 444ms/step - loss: 0.4745 - accuracy: 0.7830\n",
      "Epoch 14/40\n",
      "50/50 [==============================] - 25s 491ms/step - loss: 0.5024 - accuracy: 0.7630\n",
      "Epoch 15/40\n",
      "50/50 [==============================] - 22s 446ms/step - loss: 0.5120 - accuracy: 0.7600\n",
      "Epoch 16/40\n",
      "50/50 [==============================] - 25s 497ms/step - loss: 0.4805 - accuracy: 0.7610\n",
      "Epoch 17/40\n",
      "50/50 [==============================] - 17s 330ms/step - loss: 0.5025 - accuracy: 0.7630\n",
      "Epoch 18/40\n",
      "50/50 [==============================] - 16s 313ms/step - loss: 0.4791 - accuracy: 0.7680\n",
      "Epoch 19/40\n",
      "50/50 [==============================] - 19s 364ms/step - loss: 0.4491 - accuracy: 0.7990\n",
      "Epoch 20/40\n",
      "50/50 [==============================] - 17s 337ms/step - loss: 0.5037 - accuracy: 0.7650\n",
      "Epoch 21/40\n",
      "24/50 [=============>................] - ETA: 9s - loss: 0.4445 - accuracy: 0.7896"
     ]
    },
    {
     "name": "stderr",
     "output_type": "stream",
     "text": [
      "/home/shekhar/anaconda3/envs/ml/lib/python3.10/site-packages/PIL/TiffImagePlugin.py:845: UserWarning: Truncated File Read\n",
      "  warnings.warn(str(msg))\n"
     ]
    },
    {
     "name": "stdout",
     "output_type": "stream",
     "text": [
      "50/50 [==============================] - 18s 353ms/step - loss: 0.4581 - accuracy: 0.7930\n",
      "Epoch 22/40\n",
      "50/50 [==============================] - 17s 333ms/step - loss: 0.4617 - accuracy: 0.7890\n",
      "Epoch 23/40\n",
      "50/50 [==============================] - 17s 335ms/step - loss: 0.4283 - accuracy: 0.7990\n",
      "Epoch 24/40\n",
      "50/50 [==============================] - 17s 336ms/step - loss: 0.4832 - accuracy: 0.7700\n",
      "Epoch 25/40\n",
      "50/50 [==============================] - 17s 343ms/step - loss: 0.4802 - accuracy: 0.7810\n",
      "Epoch 26/40\n",
      "50/50 [==============================] - 18s 364ms/step - loss: 0.4725 - accuracy: 0.7880\n",
      "Epoch 27/40\n",
      "50/50 [==============================] - 18s 352ms/step - loss: 0.4521 - accuracy: 0.7860\n",
      "Epoch 28/40\n",
      "50/50 [==============================] - 18s 356ms/step - loss: 0.4594 - accuracy: 0.7830\n",
      "Epoch 29/40\n",
      "50/50 [==============================] - 19s 364ms/step - loss: 0.5050 - accuracy: 0.7670\n",
      "Epoch 30/40\n",
      "50/50 [==============================] - 18s 358ms/step - loss: 0.4280 - accuracy: 0.8110\n",
      "Epoch 31/40\n",
      "50/50 [==============================] - 18s 358ms/step - loss: 0.4754 - accuracy: 0.7920\n",
      "Epoch 32/40\n",
      "50/50 [==============================] - 17s 334ms/step - loss: 0.4393 - accuracy: 0.7936\n",
      "Epoch 33/40\n",
      "50/50 [==============================] - 17s 343ms/step - loss: 0.4639 - accuracy: 0.7850\n",
      "Epoch 34/40\n",
      "50/50 [==============================] - 19s 374ms/step - loss: 0.4825 - accuracy: 0.7700\n",
      "Epoch 35/40\n",
      "50/50 [==============================] - 20s 391ms/step - loss: 0.4897 - accuracy: 0.7810\n",
      "Epoch 36/40\n",
      "50/50 [==============================] - 18s 361ms/step - loss: 0.4315 - accuracy: 0.8230\n",
      "Epoch 37/40\n",
      "50/50 [==============================] - 18s 357ms/step - loss: 0.4333 - accuracy: 0.8130\n",
      "Epoch 38/40\n",
      "50/50 [==============================] - 17s 334ms/step - loss: 0.4484 - accuracy: 0.8000\n",
      "Epoch 39/40\n",
      "50/50 [==============================] - 16s 316ms/step - loss: 0.4686 - accuracy: 0.7860\n",
      "Epoch 40/40\n",
      "50/50 [==============================] - 16s 321ms/step - loss: 0.4414 - accuracy: 0.8050\n"
     ]
    }
   ],
   "source": [
    "\n",
    "#This is the augmentation configuration we will use for training\n",
    "\n",
    "history = model.fit(train_generator,\n",
    "\tsteps_per_epoch= nb_train_samples // batch_size,\n",
    "\tepochs=epochs,\n",
    "\tvalidation_data=validation_generator,\n",
    "\tvalidation_steps=nb_validation_samples // batch_size)"
   ]
  },
  {
   "cell_type": "code",
   "execution_count": 48,
   "metadata": {},
   "outputs": [
    {
     "name": "stdout",
     "output_type": "stream",
     "text": [
      "1/1 [==============================] - 0s 30ms/step\n",
      "[[3.8827295e-27]]\n",
      "cat\n"
     ]
    }
   ],
   "source": [
    "img_pred = load_img('data/validation/cats/89.jpg',target_size=(150, 150))\n",
    "img_pred = img_to_array(img_pred)\n",
    "img_pred = np.expand_dims(img_pred, axis = 0 )\n",
    "\n",
    "rslt = model.predict(img_pred)\n",
    "print(rslt)\n",
    "if rslt[0][0] == 1:\n",
    "\tprediction = \"dog\"\n",
    "else:\n",
    "\tprediction = \"cat\"\n",
    "\n",
    "print(prediction)"
   ]
  },
  {
   "cell_type": "code",
   "execution_count": 62,
   "metadata": {},
   "outputs": [
    {
     "data": {
      "text/plain": [
       "[<matplotlib.lines.Line2D at 0x7fdd7a573910>]"
      ]
     },
     "execution_count": 62,
     "metadata": {},
     "output_type": "execute_result"
    },
    {
     "data": {
      "image/png": "[encoded data removed]",
      "text/plain": [
       "<Figure size 640x480 with 1 Axes>"
      ]
     },
     "metadata": {},
     "output_type": "display_data"
    }
   ],
   "source": [
    "plt.xlabel('Epoch Number')\n",
    "plt.ylabel(\"Loss Magnitude\")\n",
    "plt.plot(history.history['loss'])"
   ]
  },
  {
   "cell_type": "code",
   "execution_count": null,
   "metadata": {},
   "outputs": [],
   "source": []
  }
 ],
 "metadata": {
  "kernelspec": {
   "display_name": "Python 3.10.8 ('ml')",
   "language": "python",
   "name": "python3"
  },
  "language_info": {
   "codemirror_mode": {
    "name": "ipython",
    "version": 3
   },
   "file_extension": ".py",
   "mimetype": "text/x-python",
   "name": "python",
   "nbconvert_exporter": "python",
   "pygments_lexer": "ipython3",
   "version": "3.10.8"
  },
  "orig_nbformat": 4,
  "vscode": {
   "interpreter": {
    "hash": "6e9cd1e60b11b0801143b97f5e0d5fecd96d947ac5fee6a09f4638073694e87e"
   }
  }
 },
 "nbformat": 4,
 "nbformat_minor": 2
}
