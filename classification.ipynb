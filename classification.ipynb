{
 "cells": [
  {
   "cell_type": "code",
   "execution_count": 34,
   "metadata": {},
   "outputs": [],
   "source": [
    "from keras.preprocessing.image import ImageDataGenerator\n",
    "from keras.models import Sequential\n",
    "from keras.layers import Conv2D, MaxPooling2D\n",
    "from keras.layers import Activation, Dropout, Flatten, Dense\n",
    "from keras import backend as K\n",
    "import numpy as np\n",
    "from keras.preprocessing import image\n",
    "from keras.utils import load_img, img_to_array \n"
   ]
  },
  {
   "cell_type": "code",
   "execution_count": 35,
   "metadata": {},
   "outputs": [],
   "source": [
    "#dimensions of our images\n",
    "img_width, img_height = 150, 150\n",
    "\n",
    "train_data_dir = 'data/train'\n",
    "validation_data_dir = 'data/validation'\n",
    "nb_train_samples = 1000\n",
    "nb_validation_samples = 100\n",
    "epochs = 40\n",
    "batch_size = 20"
   ]
  },
  {
   "cell_type": "code",
   "execution_count": 36,
   "metadata": {},
   "outputs": [],
   "source": [
    "\n",
    "if K.image_data_format() == 'channels_first':\n",
    "\tinput_shape = (3, img_width,img_height)\n",
    "else:\n",
    "\tinput_shape = (img_width,img_height, 3)\n",
    "\n",
    "train_datagen = \tImageDataGenerator(\n",
    "\trescale=1. / 255,\n",
    "\tshear_range=0.2,\n",
    "\tzoom_range=0.2,\n",
    "\thorizontal_flip=True)\n"
   ]
  },
  {
   "cell_type": "code",
   "execution_count": 37,
   "metadata": {},
   "outputs": [
    {
     "name": "stdout",
     "output_type": "stream",
     "text": [
      "Found 24958 images belonging to 2 classes.\n",
      "Found 40 images belonging to 2 classes.\n"
     ]
    }
   ],
   "source": [
    "\n",
    "#This is the augmentation configuration we will use for testing:\n",
    "#only rescaling\n",
    "test_datagen = ImageDataGenerator(rescale=1. /255)\n",
    "\n",
    "train_generator = train_datagen.flow_from_directory(\n",
    "\ttrain_data_dir,\n",
    "\ttarget_size= (img_width, img_height),\n",
    "\tbatch_size=batch_size,\n",
    "\tclass_mode='binary')\n",
    "\n",
    "validation_generator = test_datagen.flow_from_directory(\n",
    "\tvalidation_data_dir,\n",
    "\ttarget_size=(img_width,img_height),\n",
    "\tbatch_size=batch_size,\n",
    "\tclass_mode='binary')\n"
   ]
  },
  {
   "cell_type": "code",
   "execution_count": 38,
   "metadata": {},
   "outputs": [
    {
     "name": "stdout",
     "output_type": "stream",
     "text": [
      "Model: \"sequential_5\"\n",
      "_________________________________________________________________\n",
      " Layer (type)                Output Shape              Param #   \n",
      "=================================================================\n",
      " conv2d_15 (Conv2D)          (None, 148, 148, 32)      896       \n",
      "                                                                 \n",
      " activation_25 (Activation)  (None, 148, 148, 32)      0         \n",
      "                                                                 \n",
      " max_pooling2d_15 (MaxPoolin  (None, 74, 74, 32)       0         \n",
      " g2D)                                                            \n",
      "                                                                 \n",
      "=================================================================\n",
      "Total params: 896\n",
      "Trainable params: 896\n",
      "Non-trainable params: 0\n",
      "_________________________________________________________________\n",
      "Model: \"sequential_5\"\n",
      "_________________________________________________________________\n",
      " Layer (type)                Output Shape              Param #   \n",
      "=================================================================\n",
      " conv2d_15 (Conv2D)          (None, 148, 148, 32)      896       \n",
      "                                                                 \n",
      " activation_25 (Activation)  (None, 148, 148, 32)      0         \n",
      "                                                                 \n",
      " max_pooling2d_15 (MaxPoolin  (None, 74, 74, 32)       0         \n",
      " g2D)                                                            \n",
      "                                                                 \n",
      " conv2d_16 (Conv2D)          (None, 72, 72, 32)        9248      \n",
      "                                                                 \n",
      " activation_26 (Activation)  (None, 72, 72, 32)        0         \n",
      "                                                                 \n",
      " max_pooling2d_16 (MaxPoolin  (None, 36, 36, 32)       0         \n",
      " g2D)                                                            \n",
      "                                                                 \n",
      " conv2d_17 (Conv2D)          (None, 34, 34, 64)        18496     \n",
      "                                                                 \n",
      " activation_27 (Activation)  (None, 34, 34, 64)        0         \n",
      "                                                                 \n",
      " max_pooling2d_17 (MaxPoolin  (None, 17, 17, 64)       0         \n",
      " g2D)                                                            \n",
      "                                                                 \n",
      " flatten_5 (Flatten)         (None, 18496)             0         \n",
      "                                                                 \n",
      " dense_10 (Dense)            (None, 64)                1183808   \n",
      "                                                                 \n",
      " activation_28 (Activation)  (None, 64)                0         \n",
      "                                                                 \n",
      " dropout_5 (Dropout)         (None, 64)                0         \n",
      "                                                                 \n",
      " dense_11 (Dense)            (None, 1)                 65        \n",
      "                                                                 \n",
      " activation_29 (Activation)  (None, 1)                 0         \n",
      "                                                                 \n",
      "=================================================================\n",
      "Total params: 1,212,513\n",
      "Trainable params: 1,212,513\n",
      "Non-trainable params: 0\n",
      "_________________________________________________________________\n"
     ]
    }
   ],
   "source": [
    "\n",
    "model = Sequential()\n",
    "model.add(Conv2D(32, (3, 3), input_shape = input_shape))\n",
    "model.add(Activation('relu'))\n",
    "model.add(MaxPooling2D(pool_size= (2, 2)))\n",
    "\n",
    "model.summary()\n",
    "\n",
    "model.add(Conv2D(32, (3, 3)))\n",
    "model.add(Activation('relu'))\n",
    "model.add(MaxPooling2D(pool_size= (2, 2)))\n",
    "\n",
    "model.add(Conv2D(64, (3, 3)))\n",
    "model.add(Activation('relu'))\n",
    "model.add(MaxPooling2D(pool_size= (2, 2)))\n",
    "\n",
    "model.add(Flatten())\n",
    "model.add(Dense(64))\n",
    "model.add(Activation('relu'))\n",
    "model.add(Dropout(0.5))\n",
    "model.add(Dense(1))\n",
    "model.add(Activation('sigmoid'))\n",
    "\n",
    "model.summary()\n",
    "model.compile(loss='binary_crossentropy',\n",
    "\t          optimizer='rmsprop',\n",
    "\t          metrics=['accuracy'])"
   ]
  },
  {
   "cell_type": "code",
   "execution_count": 39,
   "metadata": {},
   "outputs": [
    {
     "name": "stdout",
     "output_type": "stream",
     "text": [
      "Epoch 1/40\n",
      "50/50 [==============================] - ETA: 0s - loss: 0.8183 - accuracy: 0.4990WARNING:tensorflow:Your input ran out of data; interrupting training. Make sure that your dataset or generator can generate at least `steps_per_epoch * epochs` batches (in this case, 5 batches). You may need to use the repeat() function when building your dataset.\n",
      "50/50 [==============================] - 17s 331ms/step - loss: 0.8183 - accuracy: 0.4990 - val_loss: 0.6917 - val_accuracy: 0.5000\n",
      "Epoch 2/40\n",
      "50/50 [==============================] - 16s 321ms/step - loss: 0.7010 - accuracy: 0.5280\n",
      "Epoch 3/40\n",
      "50/50 [==============================] - 16s 327ms/step - loss: 0.6977 - accuracy: 0.5250\n",
      "Epoch 4/40\n",
      "50/50 [==============================] - 15s 305ms/step - loss: 0.6943 - accuracy: 0.5200\n",
      "Epoch 5/40\n",
      "50/50 [==============================] - 16s 325ms/step - loss: 0.6865 - accuracy: 0.5570\n",
      "Epoch 6/40\n",
      "50/50 [==============================] - 16s 322ms/step - loss: 0.6734 - accuracy: 0.5940\n",
      "Epoch 7/40\n",
      "50/50 [==============================] - 16s 314ms/step - loss: 0.6625 - accuracy: 0.6130\n",
      "Epoch 8/40\n",
      "50/50 [==============================] - 16s 313ms/step - loss: 0.6578 - accuracy: 0.6290\n",
      "Epoch 9/40\n",
      "50/50 [==============================] - 16s 322ms/step - loss: 0.6520 - accuracy: 0.6240\n",
      "Epoch 10/40\n",
      "50/50 [==============================] - 16s 318ms/step - loss: 0.6356 - accuracy: 0.6480\n",
      "Epoch 11/40\n",
      "50/50 [==============================] - 16s 319ms/step - loss: 0.6407 - accuracy: 0.6540\n",
      "Epoch 12/40\n",
      "50/50 [==============================] - 17s 335ms/step - loss: 0.6179 - accuracy: 0.6650\n",
      "Epoch 13/40\n",
      "50/50 [==============================] - 17s 331ms/step - loss: 0.6172 - accuracy: 0.6620\n",
      "Epoch 14/40\n",
      "50/50 [==============================] - 16s 322ms/step - loss: 0.6346 - accuracy: 0.6510\n",
      "Epoch 15/40\n",
      "50/50 [==============================] - 16s 324ms/step - loss: 0.6199 - accuracy: 0.6540\n",
      "Epoch 16/40\n",
      "50/50 [==============================] - 17s 330ms/step - loss: 0.6049 - accuracy: 0.6800\n",
      "Epoch 17/40\n",
      "50/50 [==============================] - 16s 317ms/step - loss: 0.6066 - accuracy: 0.6810\n",
      "Epoch 18/40\n",
      "50/50 [==============================] - 16s 317ms/step - loss: 0.6162 - accuracy: 0.6743\n",
      "Epoch 19/40\n",
      "50/50 [==============================] - 16s 325ms/step - loss: 0.5979 - accuracy: 0.6700\n",
      "Epoch 20/40\n",
      "50/50 [==============================] - 16s 320ms/step - loss: 0.5887 - accuracy: 0.7230\n",
      "Epoch 21/40\n",
      "50/50 [==============================] - 17s 341ms/step - loss: 0.6018 - accuracy: 0.6700\n",
      "Epoch 22/40\n",
      "50/50 [==============================] - 18s 367ms/step - loss: 0.5961 - accuracy: 0.7170\n",
      "Epoch 23/40\n",
      "50/50 [==============================] - 17s 332ms/step - loss: 0.5704 - accuracy: 0.7110\n",
      "Epoch 24/40\n",
      "50/50 [==============================] - 16s 327ms/step - loss: 0.5618 - accuracy: 0.7130\n",
      "Epoch 25/40\n",
      "50/50 [==============================] - 16s 319ms/step - loss: 0.5575 - accuracy: 0.7300\n",
      "Epoch 26/40\n",
      "50/50 [==============================] - 17s 329ms/step - loss: 0.5719 - accuracy: 0.7260\n",
      "Epoch 27/40\n",
      "50/50 [==============================] - 17s 338ms/step - loss: 0.5571 - accuracy: 0.7190\n",
      "Epoch 28/40\n",
      "50/50 [==============================] - 17s 329ms/step - loss: 0.5908 - accuracy: 0.7070\n",
      "Epoch 29/40\n",
      "50/50 [==============================] - 16s 328ms/step - loss: 0.5693 - accuracy: 0.7190\n",
      "Epoch 30/40\n",
      "50/50 [==============================] - 16s 323ms/step - loss: 0.5979 - accuracy: 0.6880\n",
      "Epoch 31/40\n",
      "50/50 [==============================] - 16s 319ms/step - loss: 0.5757 - accuracy: 0.7130\n",
      "Epoch 32/40\n",
      "50/50 [==============================] - 16s 317ms/step - loss: 0.5396 - accuracy: 0.7250\n",
      "Epoch 33/40\n",
      "50/50 [==============================] - 17s 326ms/step - loss: 0.5657 - accuracy: 0.7090\n",
      "Epoch 34/40\n",
      "50/50 [==============================] - 16s 322ms/step - loss: 0.5346 - accuracy: 0.7600\n",
      "Epoch 35/40\n",
      "50/50 [==============================] - 17s 335ms/step - loss: 0.5532 - accuracy: 0.7190\n",
      "Epoch 36/40\n",
      "50/50 [==============================] - 17s 329ms/step - loss: 0.5387 - accuracy: 0.7310\n",
      "Epoch 37/40\n",
      "50/50 [==============================] - 16s 316ms/step - loss: 0.5426 - accuracy: 0.7320\n",
      "Epoch 38/40\n",
      "50/50 [==============================] - 16s 322ms/step - loss: 0.5329 - accuracy: 0.7510\n",
      "Epoch 39/40\n",
      "50/50 [==============================] - 16s 318ms/step - loss: 0.5387 - accuracy: 0.7330\n",
      "Epoch 40/40\n",
      "50/50 [==============================] - 16s 324ms/step - loss: 0.5598 - accuracy: 0.7130\n"
     ]
    },
    {
     "data": {
      "text/plain": [
       "<keras.callbacks.History at 0x7fdd7bb673d0>"
      ]
     },
     "execution_count": 39,
     "metadata": {},
     "output_type": "execute_result"
    }
   ],
   "source": [
    "\n",
    "#This is the augmentation configuration we will use for training\n",
    "\n",
    "model.fit(train_generator,\n",
    "\tsteps_per_epoch= nb_train_samples // batch_size,\n",
    "\tepochs=epochs,\n",
    "\tvalidation_data=validation_generator,\n",
    "\tvalidation_steps=nb_validation_samples // batch_size)"
   ]
  },
  {
   "cell_type": "code",
   "execution_count": 40,
   "metadata": {},
   "outputs": [],
   "source": [
    "model.save_weights('dog-vs-cat.h5')"
   ]
  },
  {
   "cell_type": "code",
   "execution_count": 48,
   "metadata": {},
   "outputs": [
    {
     "name": "stdout",
     "output_type": "stream",
     "text": [
      "1/1 [==============================] - 0s 30ms/step\n",
      "[[3.8827295e-27]]\n",
      "cat\n"
     ]
    }
   ],
   "source": [
    "img_pred = load_img('data/validation/cats/89.jpg',target_size=(150, 150))\n",
    "img_pred = img_to_array(img_pred)\n",
    "img_pred = np.expand_dims(img_pred, axis = 0 )\n",
    "\n",
    "rslt = model.predict(img_pred)\n",
    "print(rslt)\n",
    "if rslt[0][0] == 1:\n",
    "\tprediction = \"dog\"\n",
    "else:\n",
    "\tprediction = \"cat\"\n",
    "\n",
    "print(prediction)"
   ]
  },
  {
   "cell_type": "code",
   "execution_count": null,
   "metadata": {},
   "outputs": [],
   "source": []
  }
 ],
 "metadata": {
  "kernelspec": {
   "display_name": "Python 3.10.8 ('ml')",
   "language": "python",
   "name": "python3"
  },
  "language_info": {
   "codemirror_mode": {
    "name": "ipython",
    "version": 3
   },
   "file_extension": ".py",
   "mimetype": "text/x-python",
   "name": "python",
   "nbconvert_exporter": "python",
   "pygments_lexer": "ipython3",
   "version": "3.10.8"
  },
  "orig_nbformat": 4,
  "vscode": {
   "interpreter": {
    "hash": "6e9cd1e60b11b0801143b97f5e0d5fecd96d947ac5fee6a09f4638073694e87e"
   }
  }
 },
 "nbformat": 4,
 "nbformat_minor": 2
}
